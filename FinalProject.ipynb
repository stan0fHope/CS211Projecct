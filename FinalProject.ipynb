{
 "cells": [
  {
   "cell_type": "markdown",
   "metadata": {},
   "source": [
    "# CS211 Final Project \n",
    "Stanhope Nwosu and Clasby Chope \n",
    "\n",
    "Preforming workload queries and comparing methods of differential privacy on dataset of 911 calls in Montgomery Country PA"
   ]
  },
  {
   "cell_type": "code",
   "execution_count": 2,
   "metadata": {},
   "outputs": [
    {
     "data": {
      "text/html": [
       "<div>\n",
       "<style scoped>\n",
       "    .dataframe tbody tr th:only-of-type {\n",
       "        vertical-align: middle;\n",
       "    }\n",
       "\n",
       "    .dataframe tbody tr th {\n",
       "        vertical-align: top;\n",
       "    }\n",
       "\n",
       "    .dataframe thead th {\n",
       "        text-align: right;\n",
       "    }\n",
       "</style>\n",
       "<table border=\"1\" class=\"dataframe\">\n",
       "  <thead>\n",
       "    <tr style=\"text-align: right;\">\n",
       "      <th></th>\n",
       "      <th>lat</th>\n",
       "      <th>lng</th>\n",
       "      <th>desc</th>\n",
       "      <th>zip</th>\n",
       "      <th>title</th>\n",
       "      <th>timeStamp</th>\n",
       "      <th>twp</th>\n",
       "      <th>addr</th>\n",
       "      <th>e</th>\n",
       "    </tr>\n",
       "  </thead>\n",
       "  <tbody>\n",
       "    <tr>\n",
       "      <th>0</th>\n",
       "      <td>40.297876</td>\n",
       "      <td>-75.581294</td>\n",
       "      <td>REINDEER CT &amp; DEAD END;  NEW HANOVER; Station ...</td>\n",
       "      <td>19525.0</td>\n",
       "      <td>EMS: BACK PAINS/INJURY</td>\n",
       "      <td>12/10/15 17:10</td>\n",
       "      <td>NEW HANOVER</td>\n",
       "      <td>REINDEER CT &amp; DEAD END</td>\n",
       "      <td>1.0</td>\n",
       "    </tr>\n",
       "    <tr>\n",
       "      <th>1</th>\n",
       "      <td>40.258061</td>\n",
       "      <td>-75.264680</td>\n",
       "      <td>BRIAR PATH &amp; WHITEMARSH LN;  HATFIELD TOWNSHIP...</td>\n",
       "      <td>19446.0</td>\n",
       "      <td>EMS: DIABETIC EMERGENCY</td>\n",
       "      <td>12/10/15 17:29</td>\n",
       "      <td>HATFIELD TOWNSHIP</td>\n",
       "      <td>BRIAR PATH &amp; WHITEMARSH LN</td>\n",
       "      <td>1.0</td>\n",
       "    </tr>\n",
       "    <tr>\n",
       "      <th>2</th>\n",
       "      <td>40.121182</td>\n",
       "      <td>-75.351975</td>\n",
       "      <td>HAWS AVE; NORRISTOWN; 2015-12-10 @ 14:39:21-St...</td>\n",
       "      <td>19401.0</td>\n",
       "      <td>Fire: GAS-ODOR/LEAK</td>\n",
       "      <td>12/10/15 14:39</td>\n",
       "      <td>NORRISTOWN</td>\n",
       "      <td>HAWS AVE</td>\n",
       "      <td>1.0</td>\n",
       "    </tr>\n",
       "    <tr>\n",
       "      <th>3</th>\n",
       "      <td>40.116153</td>\n",
       "      <td>-75.343513</td>\n",
       "      <td>AIRY ST &amp; SWEDE ST;  NORRISTOWN; Station 308A;...</td>\n",
       "      <td>19401.0</td>\n",
       "      <td>EMS: CARDIAC EMERGENCY</td>\n",
       "      <td>12/10/15 16:47</td>\n",
       "      <td>NORRISTOWN</td>\n",
       "      <td>AIRY ST &amp; SWEDE ST</td>\n",
       "      <td>1.0</td>\n",
       "    </tr>\n",
       "    <tr>\n",
       "      <th>5</th>\n",
       "      <td>40.253473</td>\n",
       "      <td>-75.283245</td>\n",
       "      <td>CANNON AVE &amp; W 9TH ST;  LANSDALE; Station 345;...</td>\n",
       "      <td>19446.0</td>\n",
       "      <td>EMS: HEAD INJURY</td>\n",
       "      <td>12/10/15 15:39</td>\n",
       "      <td>LANSDALE</td>\n",
       "      <td>CANNON AVE &amp; W 9TH ST</td>\n",
       "      <td>1.0</td>\n",
       "    </tr>\n",
       "    <tr>\n",
       "      <th>...</th>\n",
       "      <td>...</td>\n",
       "      <td>...</td>\n",
       "      <td>...</td>\n",
       "      <td>...</td>\n",
       "      <td>...</td>\n",
       "      <td>...</td>\n",
       "      <td>...</td>\n",
       "      <td>...</td>\n",
       "      <td>...</td>\n",
       "    </tr>\n",
       "    <tr>\n",
       "      <th>659383</th>\n",
       "      <td>40.289133</td>\n",
       "      <td>-75.607112</td>\n",
       "      <td>MOYER RD &amp; JAYS LN; NEW HANOVER; 2020-07-17 @ ...</td>\n",
       "      <td>19464.0</td>\n",
       "      <td>Fire: TRASH/DUMPSTER FIRE</td>\n",
       "      <td>7/17/20 19:11</td>\n",
       "      <td>NEW HANOVER</td>\n",
       "      <td>MOYER RD &amp; JAYS LN</td>\n",
       "      <td>1.0</td>\n",
       "    </tr>\n",
       "    <tr>\n",
       "      <th>659384</th>\n",
       "      <td>40.186839</td>\n",
       "      <td>-75.154067</td>\n",
       "      <td>NORRISTOWN RD &amp; LOCUST LN;  HORSHAM; Station 3...</td>\n",
       "      <td>19044.0</td>\n",
       "      <td>EMS: SEIZURES</td>\n",
       "      <td>7/17/20 19:22</td>\n",
       "      <td>HORSHAM</td>\n",
       "      <td>NORRISTOWN RD &amp; LOCUST LN</td>\n",
       "      <td>1.0</td>\n",
       "    </tr>\n",
       "    <tr>\n",
       "      <th>659385</th>\n",
       "      <td>40.217904</td>\n",
       "      <td>-75.496656</td>\n",
       "      <td>TOWNSHIP LINE RD &amp; CAMBRIDGE DR;  LIMERICK; St...</td>\n",
       "      <td>19468.0</td>\n",
       "      <td>EMS: ABDOMINAL PAINS</td>\n",
       "      <td>7/17/20 19:31</td>\n",
       "      <td>LIMERICK</td>\n",
       "      <td>TOWNSHIP LINE RD &amp; CAMBRIDGE DR</td>\n",
       "      <td>1.0</td>\n",
       "    </tr>\n",
       "    <tr>\n",
       "      <th>659386</th>\n",
       "      <td>40.004050</td>\n",
       "      <td>-75.290781</td>\n",
       "      <td>ST PAULS RD &amp; E ATHENS AVE;  LOWER MERION; Sta...</td>\n",
       "      <td>19003.0</td>\n",
       "      <td>EMS: FEVER</td>\n",
       "      <td>7/17/20 19:45</td>\n",
       "      <td>LOWER MERION</td>\n",
       "      <td>ST PAULS RD &amp; E ATHENS AVE</td>\n",
       "      <td>1.0</td>\n",
       "    </tr>\n",
       "    <tr>\n",
       "      <th>659387</th>\n",
       "      <td>40.107400</td>\n",
       "      <td>-75.113206</td>\n",
       "      <td>THE FAIRWAY  &amp; RYDAL RD; ABINGTON; 2020-07-17 ...</td>\n",
       "      <td>19046.0</td>\n",
       "      <td>Traffic: DISABLED VEHICLE -</td>\n",
       "      <td>7/17/20 19:44</td>\n",
       "      <td>ABINGTON</td>\n",
       "      <td>THE FAIRWAY  &amp; RYDAL RD</td>\n",
       "      <td>1.0</td>\n",
       "    </tr>\n",
       "  </tbody>\n",
       "</table>\n",
       "<p>93860 rows × 9 columns</p>\n",
       "</div>"
      ],
      "text/plain": [
       "              lat        lng  \\\n",
       "0       40.297876 -75.581294   \n",
       "1       40.258061 -75.264680   \n",
       "2       40.121182 -75.351975   \n",
       "3       40.116153 -75.343513   \n",
       "5       40.253473 -75.283245   \n",
       "...           ...        ...   \n",
       "659383  40.289133 -75.607112   \n",
       "659384  40.186839 -75.154067   \n",
       "659385  40.217904 -75.496656   \n",
       "659386  40.004050 -75.290781   \n",
       "659387  40.107400 -75.113206   \n",
       "\n",
       "                                                     desc      zip  \\\n",
       "0       REINDEER CT & DEAD END;  NEW HANOVER; Station ...  19525.0   \n",
       "1       BRIAR PATH & WHITEMARSH LN;  HATFIELD TOWNSHIP...  19446.0   \n",
       "2       HAWS AVE; NORRISTOWN; 2015-12-10 @ 14:39:21-St...  19401.0   \n",
       "3       AIRY ST & SWEDE ST;  NORRISTOWN; Station 308A;...  19401.0   \n",
       "5       CANNON AVE & W 9TH ST;  LANSDALE; Station 345;...  19446.0   \n",
       "...                                                   ...      ...   \n",
       "659383  MOYER RD & JAYS LN; NEW HANOVER; 2020-07-17 @ ...  19464.0   \n",
       "659384  NORRISTOWN RD & LOCUST LN;  HORSHAM; Station 3...  19044.0   \n",
       "659385  TOWNSHIP LINE RD & CAMBRIDGE DR;  LIMERICK; St...  19468.0   \n",
       "659386  ST PAULS RD & E ATHENS AVE;  LOWER MERION; Sta...  19003.0   \n",
       "659387  THE FAIRWAY  & RYDAL RD; ABINGTON; 2020-07-17 ...  19046.0   \n",
       "\n",
       "                              title       timeStamp                twp  \\\n",
       "0            EMS: BACK PAINS/INJURY  12/10/15 17:10        NEW HANOVER   \n",
       "1           EMS: DIABETIC EMERGENCY  12/10/15 17:29  HATFIELD TOWNSHIP   \n",
       "2               Fire: GAS-ODOR/LEAK  12/10/15 14:39         NORRISTOWN   \n",
       "3            EMS: CARDIAC EMERGENCY  12/10/15 16:47         NORRISTOWN   \n",
       "5                  EMS: HEAD INJURY  12/10/15 15:39           LANSDALE   \n",
       "...                             ...             ...                ...   \n",
       "659383    Fire: TRASH/DUMPSTER FIRE   7/17/20 19:11        NEW HANOVER   \n",
       "659384                EMS: SEIZURES   7/17/20 19:22            HORSHAM   \n",
       "659385         EMS: ABDOMINAL PAINS   7/17/20 19:31           LIMERICK   \n",
       "659386                   EMS: FEVER   7/17/20 19:45       LOWER MERION   \n",
       "659387  Traffic: DISABLED VEHICLE -   7/17/20 19:44           ABINGTON   \n",
       "\n",
       "                                   addr    e  \n",
       "0                REINDEER CT & DEAD END  1.0  \n",
       "1            BRIAR PATH & WHITEMARSH LN  1.0  \n",
       "2                              HAWS AVE  1.0  \n",
       "3                    AIRY ST & SWEDE ST  1.0  \n",
       "5                 CANNON AVE & W 9TH ST  1.0  \n",
       "...                                 ...  ...  \n",
       "659383               MOYER RD & JAYS LN  1.0  \n",
       "659384        NORRISTOWN RD & LOCUST LN  1.0  \n",
       "659385  TOWNSHIP LINE RD & CAMBRIDGE DR  1.0  \n",
       "659386       ST PAULS RD & E ATHENS AVE  1.0  \n",
       "659387          THE FAIRWAY  & RYDAL RD  1.0  \n",
       "\n",
       "[93860 rows x 9 columns]"
      ]
     },
     "execution_count": 2,
     "metadata": {},
     "output_type": "execute_result"
    }
   ],
   "source": [
    "# Load the data and libraries\n",
    "import pandas as pd\n",
    "import numpy as np\n",
    "import random\n",
    "from scipy import stats\n",
    "import matplotlib.pyplot as plt\n",
    "plt.style.use('seaborn-whitegrid')\n",
    "\n",
    "def laplace_mech(v, sensitivity, epsilon):\n",
    "    return v + np.random.laplace(loc=0, scale=sensitivity / epsilon)\n",
    "\n",
    "def laplace_mech_vec(vec, sensitivity, epsilon):\n",
    "    return [v + np.random.laplace(loc=0, scale=sensitivity / epsilon) for v in vec]\n",
    "\n",
    "def gaussian_mech(v, sensitivity, epsilon, delta):\n",
    "    return v + np.random.normal(loc=0, scale=sensitivity * np.sqrt(2*np.log(1.25/delta)) / epsilon)\n",
    "\n",
    "def gaussian_mech_vec(vec, sensitivity, epsilon, delta):\n",
    "    return [v + np.random.normal(loc=0, scale=sensitivity * np.sqrt(2*np.log(1.25/delta)) / epsilon)\n",
    "            for v in vec]\n",
    "\n",
    "def pct_error(orig, priv):\n",
    "    return np.abs(orig - priv)/orig * 100.0\n",
    "\n",
    "calls = pd.read_csv('https://raw.githubusercontent.com/stan0fHope/CS211Projecct/main/911.csv', low_memory=False)\n",
    "calls = calls.dropna()\n",
    "calls"
   ]
  },
  {
   "cell_type": "markdown",
   "metadata": {},
   "source": [
    "## Range Queries\n",
    "\n",
    "A *range query* counts the number of rows in the dataset which have a value lying in a given range. For example, \"how many participants are between the ages of 21 and 33?\" is a range query. A *workload* of range queries is just a list of range queries. The code below generates 100 random range queries over ages in the adult dataset."
   ]
  },
  {
   "cell_type": "code",
   "execution_count": null,
   "metadata": {},
   "outputs": [],
   "source": [
    "def range_query(df, col, a, b):\n",
    "    return len(df[(df[col] >= a) & (df[col] < b)])\n",
    "\n",
    "random_lower_bounds = [random.randint(1, 70) for _ in range(100)]\n",
    "random_workload = [(lb, random.randint(lb, 100)) for lb in random_lower_bounds]\n",
    "real_answers = [range_query(adult, 'Age', lb, ub) for (lb, ub) in random_workload]\n",
    "print('First 5 queries: ', random_workload[:5])"
   ]
  },
  {
   "cell_type": "markdown",
   "metadata": {},
   "source": [
    "## Question 1 (10 points)\n",
    "\n",
    "Write code to answer a workload of range queries using `laplace_mech` and sequential composition. Your solution should have a **total privacy cost of epsilon**."
   ]
  },
  {
   "cell_type": "code",
   "execution_count": null,
   "metadata": {
    "deletable": false,
    "nbgrader": {
     "cell_type": "code",
     "checksum": "3344a9270e0563ce9739dd80ce9470b0",
     "grade": false,
     "grade_id": "cell-91ba0020d4ea347e",
     "locked": false,
     "schema_version": 3,
     "solution": true,
     "task": false
    }
   },
   "outputs": [],
   "source": [
    "def workload_laplace(workload, epsilon):\n",
    "    # YOUR CODE HERE\n",
    "    raise NotImplementedError()\n",
    "\n",
    "print('First 4 answers:', workload_laplace(random_workload, 1.0)[:4])"
   ]
  },
  {
   "cell_type": "code",
   "execution_count": null,
   "metadata": {
    "deletable": false,
    "editable": false,
    "nbgrader": {
     "cell_type": "code",
     "checksum": "b1e1dac532e728396cdc5206fe98fc96",
     "grade": true,
     "grade_id": "cell-3fdb7419fcfc0cea",
     "locked": true,
     "points": 10,
     "schema_version": 3,
     "solution": false,
     "task": false
    }
   },
   "outputs": [],
   "source": [
    "errors = [abs(r_a - l_a) for (r_a, l_a) in zip(real_answers, workload_laplace(random_workload, 1.0))]\n",
    "print('Average absolute error:', np.mean(errors))\n",
    "assert np.mean(errors) > 50\n",
    "assert np.mean(errors) < 200"
   ]
  },
  {
   "cell_type": "markdown",
   "metadata": {},
   "source": [
    "## Question 2 (10 points)\n",
    "\n",
    "Write code to answer a workload using `laplace_mech_vec` - the version of the Laplace mechanism for **vector-valued** queries. Your solution should *not* use sequential composition, and should have a total privacy cost of `epsilon`.\n",
    "\n",
    "*Hint*: remember to use L1 global sensitivity."
   ]
  },
  {
   "cell_type": "code",
   "execution_count": null,
   "metadata": {
    "deletable": false,
    "nbgrader": {
     "cell_type": "code",
     "checksum": "f9cd70c7dfbdff699f0a6137e93d8cbf",
     "grade": false,
     "grade_id": "cell-e4e3cdb5562933b8",
     "locked": false,
     "schema_version": 3,
     "solution": true,
     "task": false
    }
   },
   "outputs": [],
   "source": [
    "def workload_laplace_vec(workload, epsilon):\n",
    "    # YOUR CODE HERE\n",
    "    raise NotImplementedError()\n",
    "\n",
    "print('First 4 answers:', workload_laplace_vec(random_workload, 1.0)[:4])"
   ]
  },
  {
   "cell_type": "code",
   "execution_count": null,
   "metadata": {
    "deletable": false,
    "editable": false,
    "nbgrader": {
     "cell_type": "code",
     "checksum": "7a4865fc2f687dd41b814f4b19861429",
     "grade": true,
     "grade_id": "cell-68af547658adcdcd",
     "locked": true,
     "points": 10,
     "schema_version": 3,
     "solution": false,
     "task": false
    }
   },
   "outputs": [],
   "source": [
    "errors = [abs(r_a - l_a) for (r_a, l_a) in zip(real_answers, workload_laplace_vec(random_workload, 1.0))]\n",
    "print('Average absolute error:', np.mean(errors))\n",
    "assert np.mean(errors) > 50\n",
    "assert np.mean(errors) < 200"
   ]
  },
  {
   "cell_type": "markdown",
   "metadata": {},
   "source": [
    "## Question 3 (10 points)\n",
    "\n",
    "In 2-5 sentences, answer the following:\n",
    "- Did the two solutions differ in terms of their accuracy?\n",
    "- How do they differ in terms of their use of composition properties of differential privacy?"
   ]
  },
  {
   "cell_type": "markdown",
   "metadata": {
    "deletable": false,
    "nbgrader": {
     "cell_type": "markdown",
     "checksum": "8f6fa31ff93b1b2150a7e6005bbe69dc",
     "grade": true,
     "grade_id": "cell-0da21812c3f96147",
     "locked": false,
     "points": 10,
     "schema_version": 3,
     "solution": true,
     "task": false
    }
   },
   "source": [
    "YOUR ANSWER HERE"
   ]
  },
  {
   "cell_type": "markdown",
   "metadata": {},
   "source": [
    "## Question 3 (10 points)\n",
    "\n",
    "Write code to answer a workload using `gaussian_mech_vec` - the version of the Gaussian mechanism for vector-valued queries. Your solution should not use sequential composition, should satisfy $(\\epsilon, \\delta)$-differential privacy, and should have a total privacy cost of (`epsilon`, `delta`).\n",
    "\n",
    "*Hint*: remember to use L2 sensitivity."
   ]
  },
  {
   "cell_type": "code",
   "execution_count": null,
   "metadata": {
    "deletable": false,
    "nbgrader": {
     "cell_type": "code",
     "checksum": "7266a83328b9ae66be525ace3bf8b0f9",
     "grade": false,
     "grade_id": "cell-217b044c0cd1697e",
     "locked": false,
     "schema_version": 3,
     "solution": true,
     "task": false
    }
   },
   "outputs": [],
   "source": [
    "def workload_gaussian_vec(workload, epsilon, delta):\n",
    "    # YOUR CODE HERE\n",
    "    raise NotImplementedError()\n",
    "\n",
    "print('First 4 answers:', workload_gaussian_vec(random_workload, 1.0, 1e-5)[:4])"
   ]
  },
  {
   "cell_type": "code",
   "execution_count": null,
   "metadata": {
    "deletable": false,
    "editable": false,
    "nbgrader": {
     "cell_type": "code",
     "checksum": "5ab7b2afd61878be18570dbc4862c17e",
     "grade": true,
     "grade_id": "cell-7c4c4d2ed403ea72",
     "locked": true,
     "points": 10,
     "schema_version": 3,
     "solution": false,
     "task": false
    }
   },
   "outputs": [],
   "source": [
    "errors = [abs(r_a - l_a) for (r_a, l_a) in zip(real_answers, workload_gaussian_vec(random_workload, 1.0, 1e-5))]\n",
    "print('Average absolute error:', np.mean(errors))\n",
    "assert np.mean(errors) > 10\n",
    "assert np.mean(errors) < 100"
   ]
  },
  {
   "cell_type": "markdown",
   "metadata": {},
   "source": [
    "## Question 4 (10 points)\n",
    "\n",
    "In 2-5 sentences, answer the following:\n",
    "- Of your solutions in questions 1-3, which ones rely on *sequential composition*?\n",
    "- Which solution offers the best accuracy?\n",
    "- Why does this particular solution yield the best accuracy?"
   ]
  },
  {
   "cell_type": "markdown",
   "metadata": {
    "deletable": false,
    "nbgrader": {
     "cell_type": "markdown",
     "checksum": "a1558eeb9acc82746ab9a8e1cdb0a48c",
     "grade": true,
     "grade_id": "cell-d505748348979709",
     "locked": false,
     "points": 10,
     "schema_version": 3,
     "solution": true,
     "task": false
    }
   },
   "source": [
    "YOUR ANSWER HERE"
   ]
  },
  {
   "cell_type": "markdown",
   "metadata": {},
   "source": [
    "## Question 5 (10 points)\n",
    "\n",
    "Re-implement your solution to question 3 using *Rényi differential privacy*. Your solution should satisfy $(\\alpha, \\bar\\epsilon)$-RDP.\n",
    "\n",
    "*Hint*: see the \"variants\" chapter in the textbook."
   ]
  },
  {
   "cell_type": "code",
   "execution_count": null,
   "metadata": {
    "deletable": false,
    "nbgrader": {
     "cell_type": "code",
     "checksum": "96b75146a191f109e6a274e2338ca9a3",
     "grade": false,
     "grade_id": "cell-50da3a173b751f3f",
     "locked": false,
     "schema_version": 3,
     "solution": true,
     "task": false
    }
   },
   "outputs": [],
   "source": [
    "def workload_gaussian_vec_RDP(workload, alpha, epsilon_bar):\n",
    "    # YOUR CODE HERE\n",
    "    raise NotImplementedError()\n",
    "\n",
    "print('First 4 answers:', workload_gaussian_vec(random_workload, 1.0, 1e-5)[:4])"
   ]
  },
  {
   "cell_type": "code",
   "execution_count": null,
   "metadata": {
    "deletable": false,
    "editable": false,
    "nbgrader": {
     "cell_type": "code",
     "checksum": "316cd1dacb6989df5026c2114ab0b4e0",
     "grade": true,
     "grade_id": "cell-d8eb625008d2985e",
     "locked": true,
     "points": 10,
     "schema_version": 3,
     "solution": false,
     "task": false
    }
   },
   "outputs": [],
   "source": [
    "# TEST CASE\n",
    "errors = [abs(r_a - l_a) for (r_a, l_a) in zip(real_answers, workload_gaussian_vec_RDP(random_workload, 5, 0.1))]\n",
    "print('Average absolute error:', np.mean(errors))\n",
    "assert np.mean(errors) > 10\n",
    "assert np.mean(errors) < 100"
   ]
  },
  {
   "cell_type": "markdown",
   "metadata": {},
   "source": [
    "## Question 6 (10 points)\n",
    "\n",
    "Implement a function `convert_RDP_ED` to convert from the $(\\alpha, \\bar\\epsilon)$ of Rényi differential privacy to the $(\\epsilon, \\delta)$ of approximate differential privacy. Your function should also take the desired value of $\\delta$."
   ]
  },
  {
   "cell_type": "code",
   "execution_count": null,
   "metadata": {
    "deletable": false,
    "nbgrader": {
     "cell_type": "code",
     "checksum": "c3b3b8b48c9c076d9f46a22886dcc9f6",
     "grade": false,
     "grade_id": "cell-361a5a41cab1e483",
     "locked": false,
     "schema_version": 3,
     "solution": true,
     "task": false
    }
   },
   "outputs": [],
   "source": [
    "def convert_RDP_ED(alpha, epsilon_bar, delta):\n",
    "    # YOUR CODE HERE\n",
    "    raise NotImplementedError()\n",
    "\n",
    "convert_RDP_ED(5, 0.1, 1e-5)"
   ]
  },
  {
   "cell_type": "code",
   "execution_count": null,
   "metadata": {
    "deletable": false,
    "editable": false,
    "nbgrader": {
     "cell_type": "code",
     "checksum": "d03372c3018a1cfb1e53f392c96947a8",
     "grade": true,
     "grade_id": "cell-98f137a5295dc1e9",
     "locked": true,
     "points": 10,
     "schema_version": 3,
     "solution": false,
     "task": false
    }
   },
   "outputs": [],
   "source": [
    "# TEST CASE\n",
    "assert convert_RDP_ED(5, 0.1, 1e-5) == 2.9782313662425572\n",
    "assert convert_RDP_ED(40, 0.1, 1e-5) == 0.39520321705051864\n",
    "assert convert_RDP_ED(500, 1.0, 1e-5) == 1.02307199491978\n",
    "assert convert_RDP_ED(40, 1.0, 1e-5) == 1.2952032170505188"
   ]
  },
  {
   "cell_type": "markdown",
   "metadata": {},
   "source": [
    "## Question 7 (10 points)\n",
    "\n",
    "In 2-5 sentences, answer the following:\n",
    "- Try various values for `alpha` and `epsilon_bar` in `convert_RDP_ED`. At what values do you observe an $(\\epsilon, \\delta)$ value around $(1.0, 10^{-5})$?\n",
    "- Try these values for `alpha` and `epsilon_bar` in `workload_gaussian_vec_RDP`. How does the error compare to using `workload_gaussian_vec`?\n",
    "- Is it useful to use Rényi differential privacy to answer workloads of range queries? Or is regular $(\\epsilon, \\delta)$-differential privacy just as good?"
   ]
  },
  {
   "cell_type": "markdown",
   "metadata": {
    "deletable": false,
    "nbgrader": {
     "cell_type": "markdown",
     "checksum": "bb55de7548c434c40e61b33be3787147",
     "grade": true,
     "grade_id": "cell-17fe437fb638503d",
     "locked": false,
     "points": 10,
     "schema_version": 3,
     "solution": true,
     "task": false
    }
   },
   "source": [
    "YOUR ANSWER HERE"
   ]
  }
 ],
 "metadata": {
  "kernelspec": {
   "display_name": "Python 3",
   "language": "python",
   "name": "python3"
  },
  "language_info": {
   "codemirror_mode": {
    "name": "ipython",
    "version": 3
   },
   "file_extension": ".py",
   "mimetype": "text/x-python",
   "name": "python",
   "nbconvert_exporter": "python",
   "pygments_lexer": "ipython3",
   "version": "3.6.12"
  }
 },
 "nbformat": 4,
 "nbformat_minor": 4
}
