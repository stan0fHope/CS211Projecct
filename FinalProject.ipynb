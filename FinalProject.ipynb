{
 "cells": [
  {
   "cell_type": "markdown",
   "metadata": {},
   "source": [
    "# CS211 Final Project \n",
    "Stanhope Nwosu and Clasby Chope \n",
    "\n",
    "Preforming workload queries and comparing methods of differential privacy on dataset of 911 calls in Montgomery Country PA"
   ]
  },
  {
   "cell_type": "code",
   "execution_count": 18,
   "metadata": {},
   "outputs": [],
   "source": [
    "# Load the data and libraries\n",
    "import pandas as pd\n",
    "import numpy as np\n",
    "import random\n",
    "from datetime import datetime\n",
    "\n",
    "from scipy import stats\n",
    "import matplotlib.pyplot as plt\n",
    "plt.style.use('seaborn-whitegrid')\n",
    "\n",
    "def laplace_mech(v, sensitivity, epsilon):\n",
    "    return v + np.random.laplace(loc=0, scale=sensitivity / epsilon)\n",
    "\n",
    "def laplace_mech_vec(vec, sensitivity, epsilon):\n",
    "    return [v + np.random.laplace(loc=0, scale=sensitivity / epsilon) for v in vec]\n",
    "\n",
    "def gaussian_mech(v, sensitivity, epsilon, delta):\n",
    "    return v + np.random.normal(loc=0, scale=sensitivity * np.sqrt(2*np.log(1.25/delta)) / epsilon)\n",
    "\n",
    "def gaussian_mech_vec(vec, sensitivity, epsilon, delta):\n",
    "    return [v + np.random.normal(loc=0, scale=sensitivity * np.sqrt(2*np.log(1.25/delta)) / epsilon)\n",
    "            for v in vec]\n",
    "\n",
    "def gaussian_mech_RDP_vec(vec, sensitivity, alpha, epsilon):\n",
    "    sigma = np.sqrt((sensitivity**2 * alpha) / (2 * epsilon))\n",
    "    return [v + np.random.normal(loc=0, scale=sigma) for v in vec]\n",
    "\n",
    "def pct_error(orig, priv):\n",
    "    return np.abs(orig - priv)/orig * 100.0\n",
    "\n",
    "call = pd.read_csv('https://raw.githubusercontent.com/stan0fHope/CS211Projecct/main/911.csv', low_memory=False)\n",
    "calls = call.dropna() #removing N/A from csv\n",
    "times = [d.split()[1] for d in calls['timeStamp']]\n",
    "minutes = [int(d.split(':')[0])*60 + int(d.split(':')[1]) for d in times]\n",
    "calls.insert(9, 'mnt', minutes) #converted time to minutes and added to calls\n",
    "\n"
   ]
  },
  {
   "cell_type": "markdown",
   "metadata": {},
   "source": [
    "## Range Queries\n",
    "\n",
    "A *range query* counts the number of rows in the dataset which have a value lying in a given range. For example, \"how many participants are between the ages of 21 and 33?\" is a range query. A *workload* of range queries is just a list of range queries. The code below generates 100 random range queries over ages in the adult dataset."
   ]
  },
  {
   "cell_type": "code",
   "execution_count": 29,
   "metadata": {},
   "outputs": [],
   "source": [
    "def range_query(df, col, a, b):\n",
    "    return len(df[(df[col] >= a) & (df[col] < b)])\n",
    "\n",
    "#are float types tho so i cut 3 from top/bot\n",
    "random_lat_bounds = [random.randint(25, 40) for _ in range(100)]\n",
    "\n",
    "#same for lat, but neg (-95, -74), make neg\n",
    "random_lng_bounds = [random.randint(-100, -70) for _ in range(100)]\n",
    "\n",
    "#for minutes the call was made from 0-1000\n",
    "random_mnt_bounds = [random.randint(0, 1000) for _ in range(100)]\n",
    "\n",
    "lat_workload = [(lb, random.randint(lb, 50)) for lb in random_lat_bounds]\n",
    "lng_workload = [(lb, random.randint(lb, -65)) for lb in random_lng_bounds]\n",
    "mnt_workload = [(lb, random.randint(lb, 1500)) for lb in random_lng_bounds]\n",
    "\n",
    "real_lat = [range_query(calls, 'lat', lb, ub) for (lb, ub) in lat_workload]\n",
    "real_lng = [range_query(calls, 'lng', lb, ub) for (lb, ub) in lng_workload]\n",
    "real_mnt = [range_query(calls, 'mnt', lb, ub) for (lb, ub) in mnt_workload]\n"
   ]
  },
  {
   "cell_type": "code",
   "execution_count": 30,
   "metadata": {},
   "outputs": [],
   "source": [
    "def workload_laplace(workload, epsilon, col):\n",
    "    ans_list = []#apply range query\n",
    "    for work in workload: #seq comp\n",
    "        a, b = work\n",
    "        rng = range_query(calls, col, a, b)\n",
    "        noised = laplace_mech(rng, len(workload), epsilon)\n",
    "        ans_list.append(noised)\n",
    "    return ans_list"
   ]
  },
  {
   "cell_type": "code",
   "execution_count": 31,
   "metadata": {},
   "outputs": [
    {
     "name": "stdout",
     "output_type": "stream",
     "text": [
      "Average absolute error: 105.06688636869605\n",
      "Average absolute error: 96.73449170430092\n",
      "Average absolute error: 82.9742425092313\n"
     ]
    }
   ],
   "source": [
    "##Our errors testing\n",
    "lat_errors = [abs(r_a - l_a) for (r_a, l_a) in zip(real_lat, workload_laplace(lat_workload, 1.0, 'lat'))]\n",
    "lng_errors = [abs(r_a - l_a) for (r_a, l_a) in zip(real_lng, workload_laplace(lng_workload, 1.0, 'lng'))]\n",
    "mnt_errors = [abs(r_a - l_a) for (r_a, l_a) in zip(real_mnt, workload_laplace(mnt_workload, 1.0, 'mnt'))]\n",
    "\n",
    "print('Average absolute error:', np.mean(lat_errors))\n",
    "assert np.mean(lat_errors) > 70\n",
    "assert np.mean(lat_errors) < 150\n",
    "\n",
    "print('Average absolute error:', np.mean(lng_errors))\n",
    "assert np.mean(lng_errors) > 70\n",
    "assert np.mean(lng_errors) < 150\n",
    "\n",
    "print('Average absolute error:', np.mean(mnt_errors))\n",
    "assert np.mean(lng_errors) > 70\n",
    "assert np.mean(lng_errors) < 150\n"
   ]
  },
  {
   "cell_type": "code",
   "execution_count": 32,
   "metadata": {},
   "outputs": [],
   "source": [
    "def workload_laplace_vec(workload, epsilon, col):\n",
    "    L1 = len(workload)\n",
    "    #L1 sens is sum of vector sens\n",
    "    rng = [range_query(calls, col, work[0], work[1]) for work in workload] #1st of tuple\n",
    "    noise = laplace_mech_vec(rng, L1, epsilon)\n",
    "    return noise"
   ]
  },
  {
   "cell_type": "code",
   "execution_count": 33,
   "metadata": {},
   "outputs": [
    {
     "name": "stdout",
     "output_type": "stream",
     "text": [
      "Average absolute error: 105.59964772119372\n",
      "Average absolute error: 105.37124006950991\n",
      "Average absolute error: 90.22419594796342\n"
     ]
    }
   ],
   "source": [
    "##Our errors testing\n",
    "lat_errors = [abs(r_a - l_a) for (r_a, l_a) in zip(real_lat, workload_laplace_vec(lat_workload, 1.0, 'lat'))]\n",
    "lng_errors = [abs(r_a - l_a) for (r_a, l_a) in zip(real_lng, workload_laplace_vec(lng_workload, 1.0, 'lng'))]\n",
    "mnt_errors = [abs(r_a - l_a) for (r_a, l_a) in zip(real_mnt, workload_laplace_vec(mnt_workload, 1.0, 'mnt'))]\n",
    "\n",
    "print('Average absolute error:', np.mean(lat_errors))\n",
    "assert np.mean(lat_errors) > 70\n",
    "assert np.mean(lat_errors) < 150\n",
    "\n",
    "print('Average absolute error:', np.mean(lng_errors))\n",
    "assert np.mean(lng_errors) > 70\n",
    "assert np.mean(lng_errors) < 150\n",
    "\n",
    "print('Average absolute error:', np.mean(mnt_errors))\n",
    "assert np.mean(mnt_errors) > 70\n",
    "assert np.mean(mnt_errors) < 150"
   ]
  },
  {
   "cell_type": "code",
   "execution_count": 34,
   "metadata": {},
   "outputs": [],
   "source": [
    "def workload_gaussian_vec(workload, epsilon, delta, col):\n",
    "    L2 = np.sqrt(len(workload))\n",
    "    rng = [range_query(calls, col, work[0], work[1]) for work in workload] #1st of tuple\n",
    "    noise = gaussian_mech_vec(rng, L2, epsilon, delta)\n",
    "    return noise"
   ]
  },
  {
   "cell_type": "code",
   "execution_count": 35,
   "metadata": {},
   "outputs": [
    {
     "name": "stdout",
     "output_type": "stream",
     "text": [
      "Average absolute error: 39.40203285481954\n",
      "Average absolute error: 38.5722074568039\n",
      "Average absolute error: 38.85490573592798\n"
     ]
    }
   ],
   "source": [
    "lat_errors = [abs(r_a - l_a) for (r_a, l_a) in zip(real_lat, workload_gaussian_vec(lat_workload, 1.0, 1e-5,'lat'))]\n",
    "lng_errors = [abs(r_a - l_a) for (r_a, l_a) in zip(real_lng, workload_gaussian_vec(lng_workload, 1.0, 1e-5,'lng'))]\n",
    "mnt_errors = [abs(r_a - l_a) for (r_a, l_a) in zip(real_mnt, workload_gaussian_vec(mnt_workload, 1.0, 1e-5,'mnt'))]\n",
    "\n",
    "print('Average absolute error:', np.mean(lat_errors))\n",
    "assert np.mean(lat_errors) > 10\n",
    "assert np.mean(lat_errors) < 100\n",
    "\n",
    "print('Average absolute error:', np.mean(lng_errors))\n",
    "assert np.mean(lng_errors) > 10\n",
    "assert np.mean(lng_errors) < 100\n",
    "\n",
    "print('Average absolute error:', np.mean(mnt_errors))\n",
    "assert np.mean(mnt_errors) > 10\n",
    "assert np.mean(mnt_errors) < 100"
   ]
  },
  {
   "cell_type": "code",
   "execution_count": null,
   "metadata": {},
   "outputs": [],
   "source": []
  }
 ],
 "metadata": {
  "kernelspec": {
   "display_name": "Python 3",
   "language": "python",
   "name": "python3"
  },
  "language_info": {
   "codemirror_mode": {
    "name": "ipython",
    "version": 3
   },
   "file_extension": ".py",
   "mimetype": "text/x-python",
   "name": "python",
   "nbconvert_exporter": "python",
   "pygments_lexer": "ipython3",
   "version": "3.8.3"
  }
 },
 "nbformat": 4,
 "nbformat_minor": 4
}
