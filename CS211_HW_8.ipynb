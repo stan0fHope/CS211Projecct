{
 "cells": [
  {
   "cell_type": "markdown",
   "metadata": {},
   "source": [
    "# CS211: Data Privacy\n",
    "## Homework 8"
   ]
  },
  {
   "cell_type": "code",
   "execution_count": 101,
   "metadata": {},
   "outputs": [],
   "source": [
    "# Load the data and libraries\n",
    "import pandas as pd\n",
    "import numpy as np\n",
    "import random\n",
    "import math\n",
    "from scipy import stats\n",
    "import matplotlib.pyplot as plt\n",
    "plt.style.use('seaborn-whitegrid')\n",
    "\n",
    "def laplace_mech(v, sensitivity, epsilon):\n",
    "    return v + np.random.laplace(loc=0, scale=sensitivity / epsilon)\n",
    "\n",
    "def laplace_mech_vec(vec, sensitivity, epsilon):\n",
    "    return [v + np.random.laplace(loc=0, scale=sensitivity / epsilon) for v in vec]\n",
    "\n",
    "def gaussian_mech(v, sensitivity, epsilon, delta):\n",
    "    return v + np.random.normal(loc=0, scale=sensitivity * np.sqrt(2*np.log(1.25/delta)) / epsilon)\n",
    "\n",
    "def gaussian_mech_vec(vec, sensitivity, epsilon, delta):\n",
    "    return [v + np.random.normal(loc=0, scale=sensitivity * np.sqrt(2*np.log(1.25/delta)) / epsilon)\n",
    "            for v in vec]\n",
    "\n",
    "def pct_error(orig, priv):\n",
    "    return np.abs(orig - priv)/orig * 100.0\n",
    "\n",
    "adult = pd.read_csv('https://github.com/jnear/cs211-data-privacy/raw/master/homework/adult_with_pii.csv')"
   ]
  },
  {
   "cell_type": "markdown",
   "metadata": {},
   "source": [
    "## Range Queries\n",
    "\n",
    "A *range query* counts the number of rows in the dataset which have a value lying in a given range. For example, \"how many participants are between the ages of 21 and 33?\" is a range query. A *workload* of range queries is just a list of range queries. The code below generates 100 random range queries over ages in the adult dataset."
   ]
  },
  {
   "cell_type": "code",
   "execution_count": 37,
   "metadata": {},
   "outputs": [
    {
     "name": "stdout",
     "output_type": "stream",
     "text": [
      "First 5 queries:  [(61, 85), (3, 56), (70, 91), (18, 99), (37, 67)]\n"
     ]
    }
   ],
   "source": [
    "def range_query(df, col, a, b):\n",
    "    return len(df[(df[col] >= a) & (df[col] < b)])\n",
    "\n",
    "random_lower_bounds = [random.randint(1, 70) for _ in range(100)]\n",
    "random_workload = [(lb, random.randint(lb, 100)) for lb in random_lower_bounds]\n",
    "real_answers = [range_query(adult, 'Age', lb, ub) for (lb, ub) in random_workload]\n",
    "print('First 5 queries: ', random_workload[:5])"
   ]
  },
  {
   "cell_type": "markdown",
   "metadata": {},
   "source": [
    "## Question 1 (10 points)\n",
    "\n",
    "Write code to answer a workload of range queries using `laplace_mech` and sequential composition. Your solution should have a **total privacy cost of epsilon**."
   ]
  },
  {
   "cell_type": "code",
   "execution_count": 97,
   "metadata": {
    "deletable": false,
    "nbgrader": {
     "cell_type": "code",
     "checksum": "3344a9270e0563ce9739dd80ce9470b0",
     "grade": false,
     "grade_id": "cell-91ba0020d4ea347e",
     "locked": false,
     "schema_version": 3,
     "solution": true,
     "task": false
    }
   },
   "outputs": [
    {
     "name": "stdout",
     "output_type": "stream",
     "text": [
      "First 4 answers: [2070.298298573069, 28363.796363845526, 586.5751484712308, 32263.844513765336]\n"
     ]
    }
   ],
   "source": [
    "def workload_laplace(workload, epsilon): #no parallel comp, counting queries of sens 1\n",
    "    ans_list = []#apply range query\n",
    "    for work in workload: #seq comp\n",
    "        a, b = work\n",
    "        rng = range_query(adult, 'Age', a, b)\n",
    "        noised = laplace_mech(rng, len(workload), epsilon)\n",
    "        ans_list.append(noised)\n",
    "    return ans_list\n",
    "    #raise NotImplementedError()\n",
    "\n",
    "print('First 4 answers:', workload_laplace(random_workload, 1.0)[:4])"
   ]
  },
  {
   "cell_type": "code",
   "execution_count": 98,
   "metadata": {
    "deletable": false,
    "editable": false,
    "nbgrader": {
     "cell_type": "code",
     "checksum": "b1e1dac532e728396cdc5206fe98fc96",
     "grade": true,
     "grade_id": "cell-3fdb7419fcfc0cea",
     "locked": true,
     "points": 10,
     "schema_version": 3,
     "solution": false,
     "task": false
    }
   },
   "outputs": [
    {
     "name": "stdout",
     "output_type": "stream",
     "text": [
      "Average absolute error: 86.28347300786741\n"
     ]
    }
   ],
   "source": [
    "errors = [abs(r_a - l_a) for (r_a, l_a) in zip(real_answers, workload_laplace(random_workload, 1.0))]\n",
    "print('Average absolute error:', np.mean(errors))\n",
    "assert np.mean(errors) > 50\n",
    "assert np.mean(errors) < 200"
   ]
  },
  {
   "cell_type": "markdown",
   "metadata": {},
   "source": [
    "## Question 2 (10 points)\n",
    "\n",
    "Write code to answer a workload using `laplace_mech_vec` - the version of the Laplace mechanism for **vector-valued** queries. Your solution should *not* use sequential composition, and should have a total privacy cost of `epsilon`.\n",
    "\n",
    "*Hint*: remember to use L1 global sensitivity."
   ]
  },
  {
   "cell_type": "code",
   "execution_count": 93,
   "metadata": {
    "deletable": false,
    "nbgrader": {
     "cell_type": "code",
     "checksum": "f9cd70c7dfbdff699f0a6137e93d8cbf",
     "grade": false,
     "grade_id": "cell-e4e3cdb5562933b8",
     "locked": false,
     "schema_version": 3,
     "solution": true,
     "task": false
    }
   },
   "outputs": [
    {
     "name": "stdout",
     "output_type": "stream",
     "text": [
      "First 4 answers: [2159.0858378556854, 28532.704752057376, 690.6213155370223, 32166.855225662974]\n"
     ]
    }
   ],
   "source": [
    "def workload_laplace_vec(workload, epsilon): #no seq com, no parallel comp, adv if 70 <?\n",
    "    ans_list = []\n",
    "    L1 = len(workload)\n",
    "    #L1 sens is sum of vector sens\n",
    "    rng = [range_query(adult, 'Age', work[0], work[1]) for work in workload] #1st of tuple\n",
    "    \n",
    "    noise = laplace_mech_vec(rng, L1, epsilon)\n",
    "    return noise\n",
    "    #raise NotImplementedError()\n",
    "\n",
    "print('First 4 answers:', workload_laplace_vec(random_workload, 1.0)[:4])"
   ]
  },
  {
   "cell_type": "code",
   "execution_count": 94,
   "metadata": {
    "deletable": false,
    "editable": false,
    "nbgrader": {
     "cell_type": "code",
     "checksum": "7a4865fc2f687dd41b814f4b19861429",
     "grade": true,
     "grade_id": "cell-68af547658adcdcd",
     "locked": true,
     "points": 10,
     "schema_version": 3,
     "solution": false,
     "task": false
    }
   },
   "outputs": [
    {
     "name": "stdout",
     "output_type": "stream",
     "text": [
      "Average absolute error: 90.37845525111432\n"
     ]
    }
   ],
   "source": [
    "errors = [abs(r_a - l_a) for (r_a, l_a) in zip(real_answers, workload_laplace_vec(random_workload, 1.0))]\n",
    "print('Average absolute error:', np.mean(errors))\n",
    "assert np.mean(errors) > 50\n",
    "assert np.mean(errors) < 200"
   ]
  },
  {
   "cell_type": "markdown",
   "metadata": {},
   "source": [
    "## Question 3 (10 points)\n",
    "\n",
    "In 2-5 sentences, answer the following:\n",
    "- Did the two solutions differ in terms of their accuracy?\n",
    "- How do they differ in terms of their use of composition properties of differential privacy?"
   ]
  },
  {
   "cell_type": "markdown",
   "metadata": {
    "deletable": false,
    "nbgrader": {
     "cell_type": "markdown",
     "checksum": "8f6fa31ff93b1b2150a7e6005bbe69dc",
     "grade": true,
     "grade_id": "cell-0da21812c3f96147",
     "locked": false,
     "points": 10,
     "schema_version": 3,
     "solution": true,
     "task": false
    }
   },
   "source": [
    "The two solutions' accuracy differ slightly with Q2 having less error. In compositiion, Q1 uses sequential composition on each query while Q2 applies this onto the vector of ranges."
   ]
  },
  {
   "cell_type": "markdown",
   "metadata": {},
   "source": [
    "## Question 3 (10 points)\n",
    "\n",
    "Write code to answer a workload using `gaussian_mech_vec` - the version of the Gaussian mechanism for vector-valued queries. Your solution should not use sequential composition, should satisfy $(\\epsilon, \\delta)$-differential privacy, and should have a total privacy cost of (`epsilon`, `delta`).\n",
    "\n",
    "*Hint*: remember to use L2 sensitivity."
   ]
  },
  {
   "cell_type": "code",
   "execution_count": 105,
   "metadata": {
    "deletable": false,
    "nbgrader": {
     "cell_type": "code",
     "checksum": "7266a83328b9ae66be525ace3bf8b0f9",
     "grade": false,
     "grade_id": "cell-217b044c0cd1697e",
     "locked": false,
     "schema_version": 3,
     "solution": true,
     "task": false
    }
   },
   "outputs": [
    {
     "name": "stdout",
     "output_type": "stream",
     "text": [
      "First 4 answers: [2251.3965735086917, 28452.37560998159, 547.5340181884806, 32161.050794808296]\n"
     ]
    }
   ],
   "source": [
    "def workload_gaussian_vec(workload, epsilon, delta):\n",
    "    ans_list = []\n",
    "    L2 = math.sqrt(len(workload))\n",
    "    #L1 sens is sum of vector sens\n",
    "    rng = [range_query(adult, 'Age', work[0], work[1]) for work in workload] #1st of tuple\n",
    "    \n",
    "    noise = gaussian_mech_vec(rng, L2, epsilon, delta)\n",
    "    return noise\n",
    "    raise NotImplementedError()\n",
    "\n",
    "print('First 4 answers:', workload_gaussian_vec(random_workload, 1.0, 1e-5)[:4])"
   ]
  },
  {
   "cell_type": "code",
   "execution_count": 153,
   "metadata": {
    "deletable": false,
    "editable": false,
    "nbgrader": {
     "cell_type": "code",
     "checksum": "5ab7b2afd61878be18570dbc4862c17e",
     "grade": true,
     "grade_id": "cell-7c4c4d2ed403ea72",
     "locked": true,
     "points": 10,
     "schema_version": 3,
     "solution": false,
     "task": false
    }
   },
   "outputs": [
    {
     "name": "stdout",
     "output_type": "stream",
     "text": [
      "Average absolute error: 35.17008939190504\n"
     ]
    }
   ],
   "source": [
    "errors = [abs(r_a - l_a) for (r_a, l_a) in zip(real_answers, workload_gaussian_vec(random_workload, 1.0, 1e-5))]\n",
    "print('Average absolute error:', np.mean(errors))\n",
    "assert np.mean(errors) > 10\n",
    "assert np.mean(errors) < 100"
   ]
  },
  {
   "cell_type": "markdown",
   "metadata": {},
   "source": [
    "## Question 4 (10 points)\n",
    "\n",
    "In 2-5 sentences, answer the following:\n",
    "- Of your solutions in questions 1-3, which ones rely on *sequential composition*?\n",
    "- Which solution offers the best accuracy?\n",
    "- Why does this particular solution yield the best accuracy?"
   ]
  },
  {
   "cell_type": "markdown",
   "metadata": {
    "deletable": false,
    "nbgrader": {
     "cell_type": "markdown",
     "checksum": "a1558eeb9acc82746ab9a8e1cdb0a48c",
     "grade": true,
     "grade_id": "cell-d505748348979709",
     "locked": false,
     "points": 10,
     "schema_version": 3,
     "solution": true,
     "task": false
    }
   },
   "source": [
    "Of the three solutions, the 1st relies most on sequential composition. In terms of accuracy the 3rd solution is best, being twice as better than the 2nd and three times better than the 1st. I believe this is due to "
   ]
  },
  {
   "cell_type": "markdown",
   "metadata": {},
   "source": [
    "## Question 5 (10 points)\n",
    "\n",
    "Re-implement your solution to question 3 using *Rényi differential privacy*. Your solution should satisfy $(\\alpha, \\bar\\epsilon)$-RDP.\n",
    "\n",
    "*Hint*: see the \"variants\" chapter in the textbook."
   ]
  },
  {
   "cell_type": "code",
   "execution_count": 122,
   "metadata": {
    "deletable": false,
    "nbgrader": {
     "cell_type": "code",
     "checksum": "96b75146a191f109e6a274e2338ca9a3",
     "grade": false,
     "grade_id": "cell-50da3a173b751f3f",
     "locked": false,
     "schema_version": 3,
     "solution": true,
     "task": false
    }
   },
   "outputs": [
    {
     "name": "stdout",
     "output_type": "stream",
     "text": [
      "First 4 answers: [2314.606216705241, 28476.498675927614, 663.9439319758189, 32154.36186790027]\n"
     ]
    }
   ],
   "source": [
    "def workload_gaussian_vec_RDP(workload, alpha, epsilon_bar):\n",
    "    L2 = math.sqrt(len(workload))\n",
    "    #L1 sens is sum of vector sens\n",
    "    rng = [range_query(adult, 'Age', work[0], work[1]) for work in workload] #1st of tuple\n",
    "    sigma = np.sqrt((L2**2 * alpha) / (2 * epsilon_bar))\n",
    "    \n",
    "    ans_list = [rn + np.random.normal(loc=0, scale=sigma) for rn in rng]\n",
    "    \n",
    "    return ans_list\n",
    "    raise NotImplementedError()\n",
    "\n",
    "print('First 4 answers:', workload_gaussian_vec(random_workload, 1.0, 1e-5)[:4])"
   ]
  },
  {
   "cell_type": "code",
   "execution_count": 123,
   "metadata": {
    "deletable": false,
    "editable": false,
    "nbgrader": {
     "cell_type": "code",
     "checksum": "316cd1dacb6989df5026c2114ab0b4e0",
     "grade": true,
     "grade_id": "cell-d8eb625008d2985e",
     "locked": true,
     "points": 10,
     "schema_version": 3,
     "solution": false,
     "task": false
    }
   },
   "outputs": [
    {
     "name": "stdout",
     "output_type": "stream",
     "text": [
      "Average absolute error: 43.05192739414261\n"
     ]
    }
   ],
   "source": [
    "# TEST CASE\n",
    "errors = [abs(r_a - l_a) for (r_a, l_a) in zip(real_answers, workload_gaussian_vec_RDP(random_workload, 5, 0.1))]\n",
    "print('Average absolute error:', np.mean(errors))\n",
    "assert np.mean(errors) > 10\n",
    "assert np.mean(errors) < 100"
   ]
  },
  {
   "cell_type": "markdown",
   "metadata": {},
   "source": [
    "## Question 6 (10 points)\n",
    "\n",
    "Implement a function `convert_RDP_ED` to convert from the $(\\alpha, \\bar\\epsilon)$ of Rényi differential privacy to the $(\\epsilon, \\delta)$ of approximate differential privacy. Your function should also take the desired value of $\\delta$."
   ]
  },
  {
   "cell_type": "code",
   "execution_count": 128,
   "metadata": {
    "deletable": false,
    "nbgrader": {
     "cell_type": "code",
     "checksum": "c3b3b8b48c9c076d9f46a22886dcc9f6",
     "grade": false,
     "grade_id": "cell-361a5a41cab1e483",
     "locked": false,
     "schema_version": 3,
     "solution": true,
     "task": false
    }
   },
   "outputs": [
    {
     "data": {
      "text/plain": [
       "2.9782313662425572"
      ]
     },
     "execution_count": 128,
     "metadata": {},
     "output_type": "execute_result"
    }
   ],
   "source": [
    "def convert_RDP_ED(alpha, epsilon_bar, delta):\n",
    "    #morph alpha, ep_bar t\n",
    "    epsilon = epsilon_bar + (np.log(1/delta)/(alpha - 1))\n",
    "    return epsilon\n",
    "     \n",
    "    raise NotImplementedError()\n",
    "\n",
    "convert_RDP_ED(5, 0.1, 1e-5)"
   ]
  },
  {
   "cell_type": "code",
   "execution_count": 146,
   "metadata": {},
   "outputs": [
    {
     "data": {
      "text/plain": [
       "1.0566295877245662"
      ]
     },
     "execution_count": 146,
     "metadata": {},
     "output_type": "execute_result"
    }
   ],
   "source": [
    "convert_RDP_ED(12, .01, 1e-5)"
   ]
  },
  {
   "cell_type": "code",
   "execution_count": 154,
   "metadata": {
    "deletable": false,
    "editable": false,
    "nbgrader": {
     "cell_type": "code",
     "checksum": "d03372c3018a1cfb1e53f392c96947a8",
     "grade": true,
     "grade_id": "cell-98f137a5295dc1e9",
     "locked": true,
     "points": 10,
     "schema_version": 3,
     "solution": false,
     "task": false
    }
   },
   "outputs": [],
   "source": [
    "# TEST CASE\n",
    "assert convert_RDP_ED(5, 0.1, 1e-5) == 2.9782313662425572\n",
    "assert convert_RDP_ED(40, 0.1, 1e-5) == 0.39520321705051864\n",
    "assert convert_RDP_ED(500, 1.0, 1e-5) == 1.02307199491978\n",
    "assert convert_RDP_ED(40, 1.0, 1e-5) == 1.2952032170505188"
   ]
  },
  {
   "cell_type": "code",
   "execution_count": 152,
   "metadata": {},
   "outputs": [
    {
     "name": "stdout",
     "output_type": "stream",
     "text": [
      "Average absolute error: 21.009214258884075\n"
     ]
    }
   ],
   "source": [
    "errors = [abs(r_a - l_a) for (r_a, l_a) in \n",
    "          zip(real_answers, \n",
    "              workload_gaussian_vec_RDP(random_workload, 16, 1.0))]\n",
    "print('Average absolute error:', np.mean(errors))"
   ]
  },
  {
   "cell_type": "markdown",
   "metadata": {},
   "source": [
    "## Question 7 (10 points)\n",
    "\n",
    "In 2-5 sentences, answer the following:\n",
    "- Try various values for `alpha` and `epsilon_bar` in `convert_RDP_ED`. At what values do you observe an $(\\epsilon, \\delta)$ value around $(1.0, 10^{-5})$?\n",
    "- Try these values for `alpha` and `epsilon_bar` in `workload_gaussian_vec_RDP`. How does the error compare to using `workload_gaussian_vec`?\n",
    "- Is it useful to use Rényi differential privacy to answer workloads of range queries? Or is regular $(\\epsilon, \\delta)$-differential privacy just as good?"
   ]
  },
  {
   "cell_type": "markdown",
   "metadata": {
    "deletable": false,
    "nbgrader": {
     "cell_type": "markdown",
     "checksum": "bb55de7548c434c40e61b33be3787147",
     "grade": true,
     "grade_id": "cell-17fe437fb638503d",
     "locked": false,
     "points": 10,
     "schema_version": 3,
     "solution": true,
     "task": false
    }
   },
   "source": [
    "With a high alpha and low epsilon_bar the values begin to move closer to an epsilon of (1.0, 10^-5). After trying similar combinations on the workload gaussian vec RDP, it seems to be a bit more erroneous than against workload gaussian vec. Comparatively, it seems better to use regular (𝜖,𝛿) differential privacy. "
   ]
  }
 ],
 "metadata": {
  "kernelspec": {
   "display_name": "Python 3",
   "language": "python",
   "name": "python3"
  },
  "language_info": {
   "codemirror_mode": {
    "name": "ipython",
    "version": 3
   },
   "file_extension": ".py",
   "mimetype": "text/x-python",
   "name": "python",
   "nbconvert_exporter": "python",
   "pygments_lexer": "ipython3",
   "version": "3.8.3"
  }
 },
 "nbformat": 4,
 "nbformat_minor": 4
}
