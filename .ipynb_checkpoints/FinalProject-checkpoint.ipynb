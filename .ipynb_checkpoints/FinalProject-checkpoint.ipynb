{
 "cells": [
  {
   "cell_type": "markdown",
   "metadata": {},
   "source": [
    "# CS211 Final Project \n",
    "Stanhope Nwosu and Clasby Chope \n",
    "\n",
    "Preforming workload queries and comparing methods of differential privacy on dataset of 911 calls in Montgomery Country PA"
   ]
  },
  {
   "cell_type": "code",
   "execution_count": 94,
   "metadata": {},
   "outputs": [],
   "source": [
    "# Load the data and libraries\n",
    "import pandas as pd\n",
    "import numpy as np\n",
    "import random\n",
    "import math\n",
    "from scipy import stats\n",
    "import matplotlib.pyplot as plt\n",
    "plt.style.use('seaborn-whitegrid')\n",
    "\n",
    "def laplace_mech(v, sensitivity, epsilon):\n",
    "    return v + np.random.laplace(loc=0, scale=sensitivity / epsilon)\n",
    "\n",
    "def laplace_mech_vec(vec, sensitivity, epsilon):\n",
    "    return [v + np.random.laplace(loc=0, scale=sensitivity / epsilon) for v in vec]\n",
    "\n",
    "def gaussian_mech(v, sensitivity, epsilon, delta):\n",
    "    return v + np.random.normal(loc=0, scale=sensitivity * np.sqrt(2*np.log(1.25/delta)) / epsilon)\n",
    "\n",
    "def gaussian_mech_vec(vec, sensitivity, epsilon, delta):\n",
    "    return [v + np.random.normal(loc=0, scale=sensitivity * np.sqrt(2*np.log(1.25/delta)) / epsilon)\n",
    "            for v in vec]\n",
    "\n",
    "def gaussian_mech_RDP_vec(vec, sensitivity, alpha, epsilon):\n",
    "    sigma = np.sqrt((sensitivity**2 * alpha) / (2 * epsilon))\n",
    "    return [v + np.random.normal(loc=0, scale=sigma) for v in vec]\n",
    "\n",
    "def pct_error(orig, priv):\n",
    "    return np.abs(orig - priv)/orig * 100.0\n",
    "\n",
    "calls = pd.read_csv('https://raw.githubusercontent.com/stan0fHope/CS211Projecct/main/911.csv', low_memory=False)\n",
    "calls = calls.dropna()"
   ]
  },
  {
   "cell_type": "code",
   "execution_count": null,
   "metadata": {},
   "outputs": [],
   "source": [
    "calls['date'] = [pd.to_datetime(calls['timeStamp']).dt.date for _ in calls['timeStamp']]\n",
    "#calls['time'] = pd.to_datetime(calls['timeStamp']).dt.time\n",
    "calls['date'] = [d.date() for d in calls['timeStamp']]\n",
    "calls['time'] = [d.time() for t in calls['timeStamp']]\n",
    "\n",
    "calls['date']\n",
    "calls['time']"
   ]
  },
  {
   "cell_type": "markdown",
   "metadata": {},
   "source": [
    "## Range Queries\n",
    "\n",
    "A *range query* counts the number of rows in the dataset which have a value lying in a given range. For example, \"how many participants are between the ages of 21 and 33?\" is a range query. A *workload* of range queries is just a list of range queries. The code below generates 100 random range queries over ages in the adult dataset."
   ]
  },
  {
   "cell_type": "code",
   "execution_count": 71,
   "metadata": {},
   "outputs": [
    {
     "name": "stdout",
     "output_type": "stream",
     "text": [
      "First 5 queries:  [(18404, 19174), (18695, 19791), (18448, 19732), (18473, 19260), (18575, 19852)]\n"
     ]
    }
   ],
   "source": [
    "def range_query(df, col, a, b):\n",
    "    return len(df[(df[col] >= a) & (df[col] < b)])\n",
    "\n",
    "#can cahange for more ranges (18036, 19525) outlier 36107, 77316\n",
    "random_zip_bounds = [random.randint(18000, 19000) for _ in range(100)]\n",
    "\n",
    "#are float types tho so i cut 3 from top/bot\n",
    "random_lat_bounds = [random.randint(25, 40) for _ in range(100)]\n",
    "\n",
    "#sae for lat, but neg (-95, -74), make neg\n",
    "random_lng_bounds = [random.randint(-100, -70) for _ in range(100)]\n",
    "\n",
    "zip_workload = [(lb, random.randint(lb, 20000)) for lb in random_zip_bounds]\n",
    "lat_workload = [(lb, random.randint(lb, 50)) for lb in random_lat_bounds]\n",
    "lng_workload = [(lb, random.randint(lb, -65)) for lb in random_lng_bounds]\n",
    "\n",
    "print('First 5 queries: ', zip_workload[:5])\n",
    "real_zip = [range_query(calls, 'zip', lb, ub) for (lb, ub) in zip_workload]\n",
    "real_lat = [range_query(calls, 'lat', lb, ub) for (lb, ub) in lat_workload]\n",
    "real_lng = [range_query(calls, 'lng', lb, ub) for (lb, ub) in lng_workload]\n"
   ]
  },
  {
   "cell_type": "code",
   "execution_count": 72,
   "metadata": {
    "deletable": false,
    "nbgrader": {
     "cell_type": "code",
     "checksum": "3344a9270e0563ce9739dd80ce9470b0",
     "grade": false,
     "grade_id": "cell-91ba0020d4ea347e",
     "locked": false,
     "schema_version": 3,
     "solution": true,
     "task": false
    }
   },
   "outputs": [
    {
     "name": "stdout",
     "output_type": "stream",
     "text": [
      "First 4 answers: [30671.785972199963, 73722.2154492815, 73626.54367211455, 30708.92388623148]\n",
      "First 4 answers: [75752.41357251906, 75657.66887310582, 75556.36335821041, -37.646655508172366]\n",
      "First 4 answers: [75745.36589461323, 0.4292637009192729, 197.0501689724339, 34.7673781769946]\n"
     ]
    }
   ],
   "source": [
    "def workload_laplace(workload, epsilon, col):\n",
    "    ans_list = []#apply range query\n",
    "    for work in workload: #seq comp\n",
    "        a, b = work\n",
    "        rng = range_query(calls, col, a, b)\n",
    "        noised = laplace_mech(rng, len(workload), epsilon)\n",
    "        ans_list.append(noised)\n",
    "    return ans_list\n",
    "\n",
    "print('First 4 answers:', workload_laplace(zip_workload, 1.0, 'zip')[:4])\n",
    "print('First 4 answers:', workload_laplace(lat_workload, 1.0, 'lat')[:4])\n",
    "print('First 4 answers:', workload_laplace(lng_workload, 1.0, 'lng')[:4])"
   ]
  },
  {
   "cell_type": "code",
   "execution_count": 73,
   "metadata": {
    "deletable": false,
    "editable": false,
    "nbgrader": {
     "cell_type": "code",
     "checksum": "b1e1dac532e728396cdc5206fe98fc96",
     "grade": true,
     "grade_id": "cell-3fdb7419fcfc0cea",
     "locked": true,
     "points": 10,
     "schema_version": 3,
     "solution": false,
     "task": false
    }
   },
   "outputs": [
    {
     "ename": "NameError",
     "evalue": "name 'real_answers' is not defined",
     "output_type": "error",
     "traceback": [
      "\u001b[1;31m---------------------------------------------------------------------------\u001b[0m",
      "\u001b[1;31mNameError\u001b[0m                                 Traceback (most recent call last)",
      "\u001b[1;32m<ipython-input-73-b5819a56c38a>\u001b[0m in \u001b[0;36m<module>\u001b[1;34m\u001b[0m\n\u001b[1;32m----> 1\u001b[1;33m \u001b[0merrors\u001b[0m \u001b[1;33m=\u001b[0m \u001b[1;33m[\u001b[0m\u001b[0mabs\u001b[0m\u001b[1;33m(\u001b[0m\u001b[0mr_a\u001b[0m \u001b[1;33m-\u001b[0m \u001b[0ml_a\u001b[0m\u001b[1;33m)\u001b[0m \u001b[1;32mfor\u001b[0m \u001b[1;33m(\u001b[0m\u001b[0mr_a\u001b[0m\u001b[1;33m,\u001b[0m \u001b[0ml_a\u001b[0m\u001b[1;33m)\u001b[0m \u001b[1;32min\u001b[0m \u001b[0mzip\u001b[0m\u001b[1;33m(\u001b[0m\u001b[0mreal_answers\u001b[0m\u001b[1;33m,\u001b[0m \u001b[0mworkload_laplace\u001b[0m\u001b[1;33m(\u001b[0m\u001b[0mrandom_workload\u001b[0m\u001b[1;33m,\u001b[0m \u001b[1;36m1.0\u001b[0m\u001b[1;33m)\u001b[0m\u001b[1;33m)\u001b[0m\u001b[1;33m]\u001b[0m\u001b[1;33m\u001b[0m\u001b[1;33m\u001b[0m\u001b[0m\n\u001b[0m\u001b[0;32m      2\u001b[0m \u001b[0mprint\u001b[0m\u001b[1;33m(\u001b[0m\u001b[1;34m'Average absolute error:'\u001b[0m\u001b[1;33m,\u001b[0m \u001b[0mnp\u001b[0m\u001b[1;33m.\u001b[0m\u001b[0mmean\u001b[0m\u001b[1;33m(\u001b[0m\u001b[0merrors\u001b[0m\u001b[1;33m)\u001b[0m\u001b[1;33m)\u001b[0m\u001b[1;33m\u001b[0m\u001b[1;33m\u001b[0m\u001b[0m\n\u001b[0;32m      3\u001b[0m \u001b[1;32massert\u001b[0m \u001b[0mnp\u001b[0m\u001b[1;33m.\u001b[0m\u001b[0mmean\u001b[0m\u001b[1;33m(\u001b[0m\u001b[0merrors\u001b[0m\u001b[1;33m)\u001b[0m \u001b[1;33m>\u001b[0m \u001b[1;36m50\u001b[0m\u001b[1;33m\u001b[0m\u001b[1;33m\u001b[0m\u001b[0m\n\u001b[0;32m      4\u001b[0m \u001b[1;32massert\u001b[0m \u001b[0mnp\u001b[0m\u001b[1;33m.\u001b[0m\u001b[0mmean\u001b[0m\u001b[1;33m(\u001b[0m\u001b[0merrors\u001b[0m\u001b[1;33m)\u001b[0m \u001b[1;33m<\u001b[0m \u001b[1;36m200\u001b[0m\u001b[1;33m\u001b[0m\u001b[1;33m\u001b[0m\u001b[0m\n",
      "\u001b[1;31mNameError\u001b[0m: name 'real_answers' is not defined"
     ]
    }
   ],
   "source": [
    "errors = [abs(r_a - l_a) for (r_a, l_a) in zip(real_answers, workload_laplace(random_workload, 1.0))]\n",
    "print('Average absolute error:', np.mean(errors))\n",
    "assert np.mean(errors) > 50\n",
    "assert np.mean(errors) < 200"
   ]
  },
  {
   "cell_type": "code",
   "execution_count": 83,
   "metadata": {},
   "outputs": [
    {
     "name": "stdout",
     "output_type": "stream",
     "text": [
      "Average absolute error: 96.1576215220437\n",
      "Average absolute error: 94.4514157826587\n",
      "Average absolute error: 99.97685783714878\n"
     ]
    }
   ],
   "source": [
    "##Our errors testing\n",
    "zip_errors = [abs(r_a - l_a) for (r_a, l_a) in zip(real_zip, workload_laplace(zip_workload, 1.0, 'zip'))]\n",
    "lat_errors = [abs(r_a - l_a) for (r_a, l_a) in zip(real_lat, workload_laplace(lat_workload, 1.0, 'lat'))]\n",
    "lng_errors = [abs(r_a - l_a) for (r_a, l_a) in zip(real_lng, workload_laplace(lng_workload, 1.0, 'lng'))]\n",
    "\n",
    "print('Average absolute error:', np.mean(zip_errors))\n",
    "assert np.mean(zip_errors) > 70\n",
    "assert np.mean(zip_errors) < 150\n",
    "\n",
    "print('Average absolute error:', np.mean(lat_errors))\n",
    "assert np.mean(lat_errors) > 70\n",
    "assert np.mean(lat_errors) < 150\n",
    "\n",
    "print('Average absolute error:', np.mean(lng_errors))\n",
    "assert np.mean(lng_errors) > 70\n",
    "assert np.mean(lng_errors) < 150\n"
   ]
  },
  {
   "cell_type": "code",
   "execution_count": 76,
   "metadata": {},
   "outputs": [
    {
     "data": {
      "text/plain": [
       "Index(['lat', 'lng', 'desc', 'zip', 'title', 'timeStamp', 'twp', 'addr', 'e'], dtype='object')"
      ]
     },
     "execution_count": 76,
     "metadata": {},
     "output_type": "execute_result"
    }
   ],
   "source": [
    "calls.columns"
   ]
  },
  {
   "cell_type": "markdown",
   "metadata": {},
   "source": [
    "## Question 2 (10 points)\n",
    "\n",
    "Write code to answer a workload using `laplace_mech_vec` - the version of the Laplace mechanism for **vector-valued** queries. Your solution should *not* use sequential composition, and should have a total privacy cost of `epsilon`.\n",
    "\n",
    "*Hint*: remember to use L1 global sensitivity."
   ]
  },
  {
   "cell_type": "code",
   "execution_count": 85,
   "metadata": {
    "deletable": false,
    "nbgrader": {
     "cell_type": "code",
     "checksum": "f9cd70c7dfbdff699f0a6137e93d8cbf",
     "grade": false,
     "grade_id": "cell-e4e3cdb5562933b8",
     "locked": false,
     "schema_version": 3,
     "solution": true,
     "task": false
    }
   },
   "outputs": [
    {
     "name": "stdout",
     "output_type": "stream",
     "text": [
      "First 4 answers: [30774.6716910612, 73484.39643558867, 73729.08815113947, 30649.024468182906]\n",
      "First 4 answers: [75927.27052701062, 75727.23666325097, 75756.47097948508, 166.22056955059094]\n",
      "First 4 answers: [75672.2883270854, -48.65955871741793, -70.58688117359804, -234.45262056420714]\n"
     ]
    }
   ],
   "source": [
    "def workload_laplace_vec(workload, epsilon, col):\n",
    "    L1 = len(workload)\n",
    "    #L1 sens is sum of vector sens\n",
    "    rng = [range_query(calls, col, work[0], work[1]) for work in workload] #1st of tuple\n",
    "    noise = laplace_mech_vec(rng, L1, epsilon)\n",
    "    return noise\n",
    "\n",
    "print('First 4 answers:', workload_laplace_vec(zip_workload, 1.0, 'zip')[:4])\n",
    "print('First 4 answers:', workload_laplace_vec(lat_workload, 1.0, 'lat')[:4])\n",
    "print('First 4 answers:', workload_laplace_vec(lng_workload, 1.0, 'lng')[:4])"
   ]
  },
  {
   "cell_type": "code",
   "execution_count": null,
   "metadata": {
    "deletable": false,
    "editable": false,
    "nbgrader": {
     "cell_type": "code",
     "checksum": "7a4865fc2f687dd41b814f4b19861429",
     "grade": true,
     "grade_id": "cell-68af547658adcdcd",
     "locked": true,
     "points": 10,
     "schema_version": 3,
     "solution": false,
     "task": false
    }
   },
   "outputs": [],
   "source": [
    "errors = [abs(r_a - l_a) for (r_a, l_a) in zip(real_answers, workload_laplace_vec(random_workload, 1.0))]\n",
    "print('Average absolute error:', np.mean(errors))\n",
    "assert np.mean(errors) > 50\n",
    "assert np.mean(errors) < 200"
   ]
  },
  {
   "cell_type": "code",
   "execution_count": 90,
   "metadata": {},
   "outputs": [
    {
     "name": "stdout",
     "output_type": "stream",
     "text": [
      "Average absolute error: 98.05406187030427\n",
      "Average absolute error: 91.13025109172399\n",
      "Average absolute error: 105.55458967512168\n"
     ]
    }
   ],
   "source": [
    "##Our errors testing\n",
    "zip_errors = [abs(r_a - l_a) for (r_a, l_a) in zip(real_zip, workload_laplace_vec(zip_workload, 1.0, 'zip'))]\n",
    "lat_errors = [abs(r_a - l_a) for (r_a, l_a) in zip(real_lat, workload_laplace_vec(lat_workload, 1.0, 'lat'))]\n",
    "lng_errors = [abs(r_a - l_a) for (r_a, l_a) in zip(real_lng, workload_laplace_vec(lng_workload, 1.0, 'lng'))]\n",
    "\n",
    "print('Average absolute error:', np.mean(zip_errors))\n",
    "assert np.mean(zip_errors) > 70\n",
    "assert np.mean(zip_errors) < 150\n",
    "\n",
    "print('Average absolute error:', np.mean(lat_errors))\n",
    "assert np.mean(lat_errors) > 70\n",
    "assert np.mean(lat_errors) < 150\n",
    "\n",
    "print('Average absolute error:', np.mean(lng_errors))\n",
    "assert np.mean(lng_errors) > 70\n",
    "assert np.mean(lng_errors) < 150"
   ]
  },
  {
   "cell_type": "markdown",
   "metadata": {
    "deletable": false,
    "nbgrader": {
     "cell_type": "markdown",
     "checksum": "8f6fa31ff93b1b2150a7e6005bbe69dc",
     "grade": true,
     "grade_id": "cell-0da21812c3f96147",
     "locked": false,
     "points": 10,
     "schema_version": 3,
     "solution": true,
     "task": false
    }
   },
   "source": [
    "Using vec is more accurate, uses L1 sens & no composition"
   ]
  },
  {
   "cell_type": "markdown",
   "metadata": {},
   "source": [
    "## Question 3 (10 points)\n",
    "\n",
    "Write code to answer a workload using `gaussian_mech_vec` - the version of the Gaussian mechanism for vector-valued queries. Your solution should not use sequential composition, should satisfy $(\\epsilon, \\delta)$-differential privacy, and should have a total privacy cost of (`epsilon`, `delta`).\n",
    "\n",
    "*Hint*: remember to use L2 sensitivity."
   ]
  },
  {
   "cell_type": "code",
   "execution_count": 95,
   "metadata": {
    "deletable": false,
    "nbgrader": {
     "cell_type": "code",
     "checksum": "7266a83328b9ae66be525ace3bf8b0f9",
     "grade": false,
     "grade_id": "cell-217b044c0cd1697e",
     "locked": false,
     "schema_version": 3,
     "solution": true,
     "task": false
    }
   },
   "outputs": [
    {
     "name": "stdout",
     "output_type": "stream",
     "text": [
      "First 4 answers: [30619.35061595368, 73738.12543217446, 73601.49030312643, 30610.1226974897]\n",
      "First 4 answers: [75711.0979316088, 75771.92066536756, 75760.92888522902, -14.071701314266367]\n",
      "First 4 answers: [75802.73353463528, -45.15494629820084, -32.5010318553013, 9.613328781342561]\n"
     ]
    }
   ],
   "source": [
    "def workload_gaussian_vec(workload, epsilon, delta, col):\n",
    "    L2 = np.sqrt(len(workload))\n",
    "    rng = [range_query(calls, col, work[0], work[1]) for work in workload] #1st of tuple\n",
    "    noise = gaussian_mech_vec(rng, L2, epsilon, delta)\n",
    "    return noise\n",
    "\n",
    "print('First 4 answers:', workload_gaussian_vec(zip_workload, 1.0, 1e-5, 'zip')[:4])\n",
    "print('First 4 answers:', workload_gaussian_vec(lat_workload, 1.0, 1e-5, 'lat')[:4])\n",
    "print('First 4 answers:', workload_gaussian_vec(lng_workload, 1.0, 1e-5, 'lng')[:4])"
   ]
  },
  {
   "cell_type": "code",
   "execution_count": null,
   "metadata": {
    "deletable": false,
    "editable": false,
    "nbgrader": {
     "cell_type": "code",
     "checksum": "5ab7b2afd61878be18570dbc4862c17e",
     "grade": true,
     "grade_id": "cell-7c4c4d2ed403ea72",
     "locked": true,
     "points": 10,
     "schema_version": 3,
     "solution": false,
     "task": false
    }
   },
   "outputs": [],
   "source": [
    "errors = [abs(r_a - l_a) for (r_a, l_a) in zip(real_answers, workload_gaussian_vec(random_workload, 1.0, 1e-5))]\n",
    "print('Average absolute error:', np.mean(errors))\n",
    "assert np.mean(errors) > 10\n",
    "assert np.mean(errors) < 100"
   ]
  },
  {
   "cell_type": "code",
   "execution_count": 98,
   "metadata": {},
   "outputs": [
    {
     "name": "stdout",
     "output_type": "stream",
     "text": [
      "Average absolute error: 38.380467026382945\n",
      "Average absolute error: 39.055004481003856\n",
      "Average absolute error: 41.371358856557244\n"
     ]
    }
   ],
   "source": [
    "zip_errors = [abs(r_a - l_a) for (r_a, l_a) in zip(real_zip, workload_gaussian_vec(zip_workload, 1.0, 1e-5,'zip'))]\n",
    "lat_errors = [abs(r_a - l_a) for (r_a, l_a) in zip(real_lat, workload_gaussian_vec(lat_workload, 1.0, 1e-5,'lat'))]\n",
    "lng_errors = [abs(r_a - l_a) for (r_a, l_a) in zip(real_lng, workload_gaussian_vec(lng_workload, 1.0, 1e-5,'lng'))]\n",
    "\n",
    "print('Average absolute error:', np.mean(zip_errors))\n",
    "assert np.mean(zip_errors) > 10\n",
    "assert np.mean(zip_errors) < 100\n",
    "\n",
    "print('Average absolute error:', np.mean(lat_errors))\n",
    "assert np.mean(lat_errors) > 10\n",
    "assert np.mean(lat_errors) < 100\n",
    "\n",
    "print('Average absolute error:', np.mean(lng_errors))\n",
    "assert np.mean(lng_errors) > 10\n",
    "assert np.mean(lng_errors) < 100"
   ]
  },
  {
   "cell_type": "markdown",
   "metadata": {
    "deletable": false,
    "nbgrader": {
     "cell_type": "markdown",
     "checksum": "a1558eeb9acc82746ab9a8e1cdb0a48c",
     "grade": true,
     "grade_id": "cell-d505748348979709",
     "locked": false,
     "points": 10,
     "schema_version": 3,
     "solution": true,
     "task": false
    }
   },
   "source": [
    "YOUR ANSWER HERE"
   ]
  },
  {
   "cell_type": "markdown",
   "metadata": {},
   "source": [
    "## Question 5 (10 points)\n",
    "\n",
    "Re-implement your solution to question 3 using *Rényi differential privacy*. Your solution should satisfy $(\\alpha, \\bar\\epsilon)$-RDP.\n",
    "\n",
    "*Hint*: see the \"variants\" chapter in the textbook."
   ]
  },
  {
   "cell_type": "code",
   "execution_count": null,
   "metadata": {
    "deletable": false,
    "nbgrader": {
     "cell_type": "code",
     "checksum": "96b75146a191f109e6a274e2338ca9a3",
     "grade": false,
     "grade_id": "cell-50da3a173b751f3f",
     "locked": false,
     "schema_version": 3,
     "solution": true,
     "task": false
    }
   },
   "outputs": [],
   "source": [
    "def workload_gaussian_vec_RDP(workload, alpha, epsilon_bar):\n",
    "    # YOUR CODE HERE\n",
    "    raise NotImplementedError()\n",
    "\n",
    "print('First 4 answers:', workload_gaussian_vec(random_workload, 1.0, 1e-5)[:4])"
   ]
  },
  {
   "cell_type": "code",
   "execution_count": null,
   "metadata": {
    "deletable": false,
    "editable": false,
    "nbgrader": {
     "cell_type": "code",
     "checksum": "316cd1dacb6989df5026c2114ab0b4e0",
     "grade": true,
     "grade_id": "cell-d8eb625008d2985e",
     "locked": true,
     "points": 10,
     "schema_version": 3,
     "solution": false,
     "task": false
    }
   },
   "outputs": [],
   "source": [
    "# TEST CASE\n",
    "errors = [abs(r_a - l_a) for (r_a, l_a) in zip(real_answers, workload_gaussian_vec_RDP(random_workload, 5, 0.1))]\n",
    "print('Average absolute error:', np.mean(errors))\n",
    "assert np.mean(errors) > 10\n",
    "assert np.mean(errors) < 100"
   ]
  },
  {
   "cell_type": "markdown",
   "metadata": {},
   "source": [
    "## Question 6 (10 points)\n",
    "\n",
    "Implement a function `convert_RDP_ED` to convert from the $(\\alpha, \\bar\\epsilon)$ of Rényi differential privacy to the $(\\epsilon, \\delta)$ of approximate differential privacy. Your function should also take the desired value of $\\delta$."
   ]
  },
  {
   "cell_type": "code",
   "execution_count": null,
   "metadata": {
    "deletable": false,
    "nbgrader": {
     "cell_type": "code",
     "checksum": "c3b3b8b48c9c076d9f46a22886dcc9f6",
     "grade": false,
     "grade_id": "cell-361a5a41cab1e483",
     "locked": false,
     "schema_version": 3,
     "solution": true,
     "task": false
    }
   },
   "outputs": [],
   "source": [
    "def convert_RDP_ED(alpha, epsilon_bar, delta):\n",
    "    # YOUR CODE HERE\n",
    "    raise NotImplementedError()\n",
    "\n",
    "convert_RDP_ED(5, 0.1, 1e-5)"
   ]
  },
  {
   "cell_type": "code",
   "execution_count": null,
   "metadata": {
    "deletable": false,
    "editable": false,
    "nbgrader": {
     "cell_type": "code",
     "checksum": "d03372c3018a1cfb1e53f392c96947a8",
     "grade": true,
     "grade_id": "cell-98f137a5295dc1e9",
     "locked": true,
     "points": 10,
     "schema_version": 3,
     "solution": false,
     "task": false
    }
   },
   "outputs": [],
   "source": [
    "# TEST CASE\n",
    "assert convert_RDP_ED(5, 0.1, 1e-5) == 2.9782313662425572\n",
    "assert convert_RDP_ED(40, 0.1, 1e-5) == 0.39520321705051864\n",
    "assert convert_RDP_ED(500, 1.0, 1e-5) == 1.02307199491978\n",
    "assert convert_RDP_ED(40, 1.0, 1e-5) == 1.2952032170505188"
   ]
  },
  {
   "cell_type": "markdown",
   "metadata": {},
   "source": [
    "## Question 7 (10 points)\n",
    "\n",
    "In 2-5 sentences, answer the following:\n",
    "- Try various values for `alpha` and `epsilon_bar` in `convert_RDP_ED`. At what values do you observe an $(\\epsilon, \\delta)$ value around $(1.0, 10^{-5})$?\n",
    "- Try these values for `alpha` and `epsilon_bar` in `workload_gaussian_vec_RDP`. How does the error compare to using `workload_gaussian_vec`?\n",
    "- Is it useful to use Rényi differential privacy to answer workloads of range queries? Or is regular $(\\epsilon, \\delta)$-differential privacy just as good?"
   ]
  },
  {
   "cell_type": "markdown",
   "metadata": {
    "deletable": false,
    "nbgrader": {
     "cell_type": "markdown",
     "checksum": "bb55de7548c434c40e61b33be3787147",
     "grade": true,
     "grade_id": "cell-17fe437fb638503d",
     "locked": false,
     "points": 10,
     "schema_version": 3,
     "solution": true,
     "task": false
    }
   },
   "source": [
    "YOUR ANSWER HERE"
   ]
  }
 ],
 "metadata": {
  "kernelspec": {
   "display_name": "Python 3",
   "language": "python",
   "name": "python3"
  },
  "language_info": {
   "codemirror_mode": {
    "name": "ipython",
    "version": 3
   },
   "file_extension": ".py",
   "mimetype": "text/x-python",
   "name": "python",
   "nbconvert_exporter": "python",
   "pygments_lexer": "ipython3",
   "version": "3.8.3"
  }
 },
 "nbformat": 4,
 "nbformat_minor": 4
}
